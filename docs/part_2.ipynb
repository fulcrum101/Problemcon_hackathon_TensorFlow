{
 "cells": [
  {
   "cell_type": "markdown",
   "source": [
    "## Tutorial Part 2: Computer Vision with TransferLearning"
   ],
   "metadata": {
    "collapsed": false
   }
  },
  {
   "cell_type": "markdown",
   "source": [
    "**Transfer Learning** - storing knowledge gained while solving one problem and applying it to a different but related problem.\n",
    "> [More information](https://en.wikipedia.org/wiki/Transfer_learning)"
   ],
   "metadata": {
    "collapsed": false
   }
  },
  {
   "cell_type": "markdown",
   "source": [
    "TensorFlow has good selection of pre-trained models that can be imported right in TensorFlow model. It is called [*TensorFlow Hub*](https://tfhub.dev).\n",
    "As a compliment to main framework Google has published also additional package called [*TensorFlow Datasets*](https://www.tensorflow.org/datasets/catalog/overview#all_datasets) which has collection of the most popular datasets.\n",
    "\n",
    "In this part of tutorial we will use [*The Standford Dogs dataset*](https://www.tensorflow.org/datasets/catalog/stanford_dogs) imported through TensorFlow datasets."
   ],
   "metadata": {
    "collapsed": false
   }
  },
  {
   "cell_type": "markdown",
   "source": [
    "### Get data"
   ],
   "metadata": {
    "collapsed": false
   }
  },
  {
   "cell_type": "code",
   "execution_count": null,
   "outputs": [],
   "source": [
    "import tensorflow_datasets as tfds"
   ],
   "metadata": {
    "collapsed": false,
    "pycharm": {
     "name": "#%%\n"
    }
   }
  },
  {
   "cell_type": "code",
   "execution_count": null,
   "outputs": [],
   "source": [
    "(train_data, test_data), ds_info = tfds.load(name='stanford_dogs',\n",
    "                                             split=['train', 'test'],\n",
    "                                             shuffle_files=True,\n",
    "                                             as_supervised=True,\n",
    "                                             with_info=True)"
   ],
   "metadata": {
    "collapsed": false,
    "pycharm": {
     "name": "#%%\n"
    }
   }
  },
  {
   "cell_type": "code",
   "execution_count": null,
   "outputs": [],
   "source": [],
   "metadata": {
    "collapsed": false,
    "pycharm": {
     "name": "#%%\n"
    }
   }
  }
 ],
 "metadata": {
  "kernelspec": {
   "display_name": "Python 3",
   "language": "python",
   "name": "python3"
  },
  "language_info": {
   "codemirror_mode": {
    "name": "ipython",
    "version": 2
   },
   "file_extension": ".py",
   "mimetype": "text/x-python",
   "name": "python",
   "nbconvert_exporter": "python",
   "pygments_lexer": "ipython2",
   "version": "2.7.6"
  }
 },
 "nbformat": 4,
 "nbformat_minor": 0
}