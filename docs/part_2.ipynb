{
 "cells": [
  {
   "cell_type": "markdown",
   "source": [
    "# Part 2"
   ],
   "metadata": {
    "collapsed": false,
    "pycharm": {
     "name": "#%% md\n"
    }
   }
  },
  {
   "cell_type": "markdown",
   "source": [
    "## Tutorial Part 2: Computer Vision with TransferLearning"
   ],
   "metadata": {
    "collapsed": false
   }
  },
  {
   "cell_type": "markdown",
   "source": [
    "**Transfer Learning** - storing knowledge gained while solving one problem and applying it to a different but related problem.\n",
    "> [More information](https://en.wikipedia.org/wiki/Transfer_learning)"
   ],
   "metadata": {
    "collapsed": false
   }
  },
  {
   "cell_type": "markdown",
   "source": [
    "TensorFlow has good selection of pre-trained models that can be imported right in TensorFlow model. It is called [*TensorFlow Hub*](https://tfhub.dev).\n",
    "As a compliment to main framework Google has published also additional package called [*TensorFlow Datasets*](https://www.tensorflow.org/datasets/catalog/overview#all_datasets) which has collection of the most popular datasets.\n",
    "\n",
    "In this part of tutorial we will use [*The Standford Dogs dataset*](https://www.tensorflow.org/datasets/catalog/stanford_dogs) imported through TensorFlow datasets."
   ],
   "metadata": {
    "collapsed": false
   }
  },
  {
   "cell_type": "markdown",
   "source": [
    "## Check if gpu is available and TF version"
   ],
   "metadata": {
    "collapsed": false
   }
  },
  {
   "cell_type": "code",
   "execution_count": 1,
   "outputs": [
    {
     "data": {
      "text/plain": "'2.10.0'"
     },
     "execution_count": 1,
     "metadata": {},
     "output_type": "execute_result"
    }
   ],
   "source": [
    "import tensorflow as tf\n",
    "tf.__version__"
   ],
   "metadata": {
    "collapsed": false,
    "pycharm": {
     "name": "#%%\n"
    }
   }
  },
  {
   "cell_type": "code",
   "execution_count": 2,
   "outputs": [
    {
     "name": "stdout",
     "output_type": "stream",
     "text": [
      "Mon Oct 24 19:20:03 2022       \n",
      "+-----------------------------------------------------------------------------+\n",
      "| NVIDIA-SMI 512.78       Driver Version: 512.78       CUDA Version: 11.6     |\n",
      "|-------------------------------+----------------------+----------------------+\n",
      "| GPU  Name            TCC/WDDM | Bus-Id        Disp.A | Volatile Uncorr. ECC |\n",
      "| Fan  Temp  Perf  Pwr:Usage/Cap|         Memory-Usage | GPU-Util  Compute M. |\n",
      "|                               |                      |               MIG M. |\n",
      "|===============================+======================+======================|\n",
      "|   0  NVIDIA GeForce ... WDDM  | 00000000:01:00.0 Off |                  N/A |\n",
      "| N/A   81C    P8     6W /  N/A |      0MiB /  4096MiB |      0%      Default |\n",
      "|                               |                      |                  N/A |\n",
      "+-------------------------------+----------------------+----------------------+\n",
      "                                                                               \n",
      "+-----------------------------------------------------------------------------+\n",
      "| Processes:                                                                  |\n",
      "|  GPU   GI   CI        PID   Type   Process name                  GPU Memory |\n",
      "|        ID   ID                                                   Usage      |\n",
      "|=============================================================================|\n",
      "|  No running processes found                                                 |\n",
      "+-----------------------------------------------------------------------------+\n"
     ]
    }
   ],
   "source": [
    "!nvidia-smi"
   ],
   "metadata": {
    "collapsed": false,
    "pycharm": {
     "name": "#%%\n"
    }
   }
  },
  {
   "cell_type": "code",
   "execution_count": 17,
   "outputs": [
    {
     "name": "stdout",
     "output_type": "stream",
     "text": [
      "Physical devices cannot be modified after being initialized\n"
     ]
    }
   ],
   "source": [
    "gpus = tf.config.list_physical_devices('GPU')\n",
    "if gpus:\n",
    "  try:\n",
    "    # Currently, memory growth needs to be the same across GPUs\n",
    "    for gpu in gpus:\n",
    "      tf.config.experimental.set_memory_growth(gpu, True)\n",
    "    logical_gpus = tf.config.list_logical_devices('GPU')\n",
    "    print(len(gpus), \"Physical GPUs,\", len(logical_gpus), \"Logical GPUs\")\n",
    "  except RuntimeError as e:\n",
    "    # Memory growth must be set before GPUs have been initialized\n",
    "    print(e)"
   ],
   "metadata": {
    "collapsed": false,
    "pycharm": {
     "name": "#%%\n"
    }
   }
  },
  {
   "cell_type": "markdown",
   "source": [
    "## Get data"
   ],
   "metadata": {
    "collapsed": false
   }
  },
  {
   "cell_type": "code",
   "execution_count": 18,
   "outputs": [],
   "source": [
    "import tensorflow_datasets as tfds"
   ],
   "metadata": {
    "collapsed": false,
    "pycharm": {
     "name": "#%%\n"
    }
   }
  },
  {
   "cell_type": "code",
   "execution_count": 19,
   "outputs": [],
   "source": [
    "(train_data, test_data), ds_info = tfds.load(name='stanford_dogs',\n",
    "                                             split=['train', 'test'],\n",
    "                                             shuffle_files=True,\n",
    "                                             as_supervised=True,\n",
    "                                             with_info=True,\n",
    "                                             batch_size=32)"
   ],
   "metadata": {
    "collapsed": false,
    "pycharm": {
     "name": "#%%\n"
    }
   }
  },
  {
   "cell_type": "code",
   "execution_count": 20,
   "outputs": [
    {
     "data": {
      "text/plain": "tfds.core.DatasetInfo(\n    name='stanford_dogs',\n    full_name='stanford_dogs/0.2.0',\n    description=\"\"\"\n    The Stanford Dogs dataset contains images of 120 breeds of dogs from around\n    the world. This dataset has been built using images and annotation from\n    ImageNet for the task of fine-grained image categorization. There are\n    20,580 images, out of which 12,000 are used for training and 8580 for\n    testing. Class labels and bounding box annotations are provided\n    for all the 12,000 images.\n    \"\"\",\n    homepage='http://vision.stanford.edu/aditya86/ImageNetDogs/main.html',\n    data_path='C:\\\\Users\\\\misst\\\\tensorflow_datasets\\\\stanford_dogs\\\\0.2.0',\n    file_format=tfrecord,\n    download_size=778.12 MiB,\n    dataset_size=744.72 MiB,\n    features=FeaturesDict({\n        'image': Image(shape=(None, None, 3), dtype=tf.uint8),\n        'image/filename': Text(shape=(), dtype=tf.string),\n        'label': ClassLabel(shape=(), dtype=tf.int64, num_classes=120),\n        'objects': Sequence({\n            'bbox': BBoxFeature(shape=(4,), dtype=tf.float32),\n        }),\n    }),\n    supervised_keys=('image', 'label'),\n    disable_shuffling=False,\n    splits={\n        'test': <SplitInfo num_examples=8580, num_shards=4>,\n        'train': <SplitInfo num_examples=12000, num_shards=4>,\n    },\n    citation=\"\"\"@inproceedings{KhoslaYaoJayadevaprakashFeiFei_FGVC2011,\n    author = \"Aditya Khosla and Nityananda Jayadevaprakash and Bangpeng Yao and\n              Li Fei-Fei\",\n    title = \"Novel Dataset for Fine-Grained Image Categorization\",\n    booktitle = \"First Workshop on Fine-Grained Visual Categorization,\n                 IEEE Conference on Computer Vision and Pattern Recognition\",\n    year = \"2011\",\n    month = \"June\",\n    address = \"Colorado Springs, CO\",\n    }\n    @inproceedings{imagenet_cvpr09,\n            AUTHOR = {Deng, J. and Dong, W. and Socher, R. and Li, L.-J. and\n                      Li, K. and Fei-Fei, L.},\n            TITLE = {{ImageNet: A Large-Scale Hierarchical Image Database}},\n            BOOKTITLE = {CVPR09},\n            YEAR = {2009},\n            BIBSOURCE = \"http://www.image-net.org/papers/imagenet_cvpr09.bib\"}\"\"\",\n)"
     },
     "execution_count": 20,
     "metadata": {},
     "output_type": "execute_result"
    }
   ],
   "source": [
    "ds_info"
   ],
   "metadata": {
    "collapsed": false,
    "pycharm": {
     "name": "#%%\n"
    }
   }
  },
  {
   "cell_type": "code",
   "execution_count": 21,
   "outputs": [
    {
     "data": {
      "text/plain": "(<PrefetchDataset element_spec=(TensorSpec(shape=(None, None, None, 3), dtype=tf.uint8, name=None), TensorSpec(shape=(None,), dtype=tf.int64, name=None))>,\n <PrefetchDataset element_spec=(TensorSpec(shape=(None, None, None, 3), dtype=tf.uint8, name=None), TensorSpec(shape=(None,), dtype=tf.int64, name=None))>)"
     },
     "execution_count": 21,
     "metadata": {},
     "output_type": "execute_result"
    }
   ],
   "source": [
    "train_data, test_data"
   ],
   "metadata": {
    "collapsed": false,
    "pycharm": {
     "name": "#%%\n"
    }
   }
  },
  {
   "cell_type": "markdown",
   "source": [
    "## Prepare data"
   ],
   "metadata": {
    "collapsed": false,
    "pycharm": {
     "name": "#%% md\n"
    }
   }
  },
  {
   "cell_type": "markdown",
   "source": [
    "### Batch and prefetch"
   ],
   "metadata": {
    "collapsed": false,
    "pycharm": {
     "name": "#%% md\n"
    }
   }
  },
  {
   "cell_type": "code",
   "execution_count": 22,
   "outputs": [],
   "source": [
    "import tensorflow as tf"
   ],
   "metadata": {
    "collapsed": false,
    "pycharm": {
     "name": "#%%\n"
    }
   }
  },
  {
   "cell_type": "code",
   "execution_count": 23,
   "outputs": [],
   "source": [
    "# train_data = train_data.batch(32).prefetch(tf.data.AUTOTUNE)\n",
    "# test_data = test_data.batch(32).prefetch(tf.data.AUTOTUNE)\n",
    "# TFDS already batched dataset for us\n",
    "train_data = train_data.prefetch(tf.data.AUTOTUNE)\n",
    "test_data = test_data.prefetch(tf.data.AUTOTUNE)"
   ],
   "metadata": {
    "collapsed": false,
    "pycharm": {
     "name": "#%%\n"
    }
   }
  },
  {
   "cell_type": "markdown",
   "source": [
    "**Note:**\n",
    "\n",
    "* **Batch size** - the number of samples that are passed to the network at once.\n",
    "![Training with large minibatches is bad for your heath](assets/tweet_2.png)\n",
    "[Revisiting Small Batch Training for deep Neural Networks paper](https://arxiv.org/abs/1804.07612)\n",
    "* **Prefetching** overlaps the preprocessing and model execution of a training step.\n",
    "> On the step `s`, the input pipeline is reading the data for step `s+1`.\n",
    ">\n",
    "> `tf.data.AUTOTUNE` tunes value dynamically at runtime.\n",
    "\n",
    "[More information](https://www.tensorflow.org/guide/data_performance)"
   ],
   "metadata": {
    "collapsed": false,
    "pycharm": {
     "name": "#%% md\n"
    }
   }
  },
  {
   "cell_type": "markdown",
   "source": [
    "### Data Augmentation"
   ],
   "metadata": {
    "collapsed": false,
    "pycharm": {
     "name": "#%% md\n"
    }
   }
  },
  {
   "cell_type": "markdown",
   "source": [
    "*Data Augmentation* is important concept against *overfitting* problem.\n",
    "* **Data Augmentation** - a technique to increase the diversity of your training set by applying random (but realistic) transformations, such as image rotation.\n",
    "> [More Information](https://www.tensorflow.org/tutorials/images/data_augmentation)\n",
    "* **Overfiting** -  concept in data science, which occurs when a statistical model fit exactly against its training data\n",
    "> [More Information](https://www.ibm.com/cloud/learn/overfitting)"
   ],
   "metadata": {
    "collapsed": false,
    "pycharm": {
     "name": "#%% md\n"
    }
   }
  },
  {
   "cell_type": "code",
   "execution_count": 24,
   "outputs": [],
   "source": [
    "# Build data augmentation layer\n",
    "# Note: in TensorFlow models can be used as layers\n",
    "from tensorflow.keras import layers\n",
    "\n",
    "data_augmentation = tf.keras.models.Sequential([\n",
    "    layers.RandomFlip(), # https://www.tensorflow.org/api_docs/python/tf/keras/layers/RandomFlip\n",
    "    layers.RandomZoom(0.2), # https://www.tensorflow.org/api_docs/python/tf/keras/layers/RandomZoom\n",
    "    layers.RandomRotation(0.2) # https://www.tensorflow.org/api_docs/python/tf/keras/layers/RandomRotation\n",
    "], name='data_augmentation')"
   ],
   "metadata": {
    "collapsed": false,
    "pycharm": {
     "name": "#%%\n"
    }
   }
  },
  {
   "cell_type": "markdown",
   "source": [
    "## Build model"
   ],
   "metadata": {
    "collapsed": false,
    "pycharm": {
     "name": "#%% md\n"
    }
   }
  },
  {
   "cell_type": "markdown",
   "source": [
    "### Get pretrained model"
   ],
   "metadata": {
    "collapsed": false,
    "pycharm": {
     "name": "#%% md\n"
    }
   }
  },
  {
   "cell_type": "markdown",
   "source": [
    "Links:\n",
    "- [Documentation](https://www.tensorflow.org/api_docs/python/tf/keras/applications/efficientnet/EfficientNetB0)\n",
    "\n",
    "- [TF Hub](https://tfhub.dev/google/collections/efficientnet/1)"
   ],
   "metadata": {
    "collapsed": false
   }
  },
  {
   "cell_type": "code",
   "execution_count": 25,
   "outputs": [],
   "source": [
    "base_model = tf.keras.applications.EfficientNetB0(include_top=False)\n",
    "base_model.trainable = True # Unfreeze model's weights\n",
    "for layer in base_model.layers[:-10]:\n",
    "    layer.trainable = False # Unfreeze all layers except for last 10"
   ],
   "metadata": {
    "collapsed": false,
    "pycharm": {
     "name": "#%%\n"
    }
   }
  },
  {
   "cell_type": "markdown",
   "source": [
    "### Callbacks\n",
    "* `ModelCheckpoint` - saves model or model weights at some frequency.\n",
    "> [More information](https://www.tensorflow.org/api_docs/python/tf/keras/callbacks/ModelCheckpoint)\n",
    "* `EarlyStopping` - stops training when a monitored metric has stopped improving.\n",
    "> [More information](https://www.tensorflow.org/api_docs/python/tf/keras/callbacks/EarlyStopping)"
   ],
   "metadata": {
    "collapsed": false,
    "pycharm": {
     "name": "#%% md\n"
    }
   }
  },
  {
   "cell_type": "code",
   "execution_count": 26,
   "outputs": [],
   "source": [
    "checkpoint_callback = tf.keras.callbacks.ModelCheckpoint(filepath='model_checkpoints/checkpoint.ckpt',\n",
    "                                                         save_weights_only=True,\n",
    "                                                         save_best_only=True,\n",
    "                                                         save_freq='epoch',\n",
    "                                                         verbose=1)"
   ],
   "metadata": {
    "collapsed": false,
    "pycharm": {
     "name": "#%%\n"
    }
   }
  },
  {
   "cell_type": "code",
   "execution_count": 27,
   "outputs": [],
   "source": [
    "early_stopping_callback = tf.keras.callbacks.EarlyStopping(monitor='val_loss',\n",
    "                                                           verbose=1,\n",
    "                                                           restore_best_weights=True)"
   ],
   "metadata": {
    "collapsed": false,
    "pycharm": {
     "name": "#%%\n"
    }
   }
  },
  {
   "cell_type": "markdown",
   "source": [
    "### Create a model with Functional API"
   ],
   "metadata": {
    "collapsed": false
   }
  },
  {
   "cell_type": "code",
   "execution_count": 28,
   "outputs": [],
   "source": [
    "inputs = tf.keras.layers.Input(shape=(None, None, 3), name='input_layer')\n",
    "x = data_augmentation(inputs)\n",
    "x = base_model(x)\n",
    "x = tf.keras.layers.GlobalAveragePooling2D(name='global_average_pooling_layer')(x)\n",
    "outputs = tf.keras.layers.Dense(120, activation='softmax', name='output_layer')(x)"
   ],
   "metadata": {
    "collapsed": false,
    "pycharm": {
     "name": "#%%\n"
    }
   }
  },
  {
   "cell_type": "code",
   "execution_count": 29,
   "outputs": [
    {
     "name": "stdout",
     "output_type": "stream",
     "text": [
      "Model: \"cv_model\"\n",
      "_________________________________________________________________\n",
      " Layer (type)                Output Shape              Param #   \n",
      "=================================================================\n",
      " input_layer (InputLayer)    [(None, None, None, 3)]   0         \n",
      "                                                                 \n",
      " data_augmentation (Sequenti  (None, None, None, 3)    0         \n",
      " al)                                                             \n",
      "                                                                 \n",
      " efficientnetb0 (Functional)  (None, None, None, 1280)  4049571  \n",
      "                                                                 \n",
      " global_average_pooling_laye  (None, 1280)             0         \n",
      " r (GlobalAveragePooling2D)                                      \n",
      "                                                                 \n",
      " output_layer (Dense)        (None, 120)               153720    \n",
      "                                                                 \n",
      "=================================================================\n",
      "Total params: 4,203,291\n",
      "Trainable params: 1,046,952\n",
      "Non-trainable params: 3,156,339\n",
      "_________________________________________________________________\n"
     ]
    }
   ],
   "source": [
    "model = tf.keras.models.Model(inputs, outputs, name='cv_model')\n",
    "model.summary()"
   ],
   "metadata": {
    "collapsed": false,
    "pycharm": {
     "name": "#%%\n"
    }
   }
  },
  {
   "cell_type": "code",
   "execution_count": 32,
   "outputs": [],
   "source": [
    "model.compile(loss=tf.keras.losses.SparseCategoricalCrossentropy(),\n",
    "              optimizer=tf.keras.optimizers.Adam(),\n",
    "              metrics=['accuracy'])"
   ],
   "metadata": {
    "collapsed": false,
    "pycharm": {
     "name": "#%%\n"
    }
   }
  },
  {
   "cell_type": "code",
   "execution_count": null,
   "outputs": [],
   "source": [
    "model.fit(train_data,\n",
    "          validation_data=test_data,\n",
    "          validation_steps=int(0.2*len(test_data)),\n",
    "          epochs=100,\n",
    "          callbacks=[early_stopping_callback,\n",
    "                     checkpoint_callback],\n",
    "          verbose=1)"
   ],
   "metadata": {
    "collapsed": false,
    "pycharm": {
     "name": "#%%\n",
     "is_executing": true
    }
   }
  },
  {
   "cell_type": "code",
   "execution_count": null,
   "outputs": [],
   "source": [],
   "metadata": {
    "collapsed": false,
    "pycharm": {
     "name": "#%%\n"
    }
   }
  }
 ],
 "metadata": {
  "kernelspec": {
   "display_name": "Python 3",
   "language": "python",
   "name": "python3"
  },
  "language_info": {
   "codemirror_mode": {
    "name": "ipython",
    "version": 2
   },
   "file_extension": ".py",
   "mimetype": "text/x-python",
   "name": "python",
   "nbconvert_exporter": "python",
   "pygments_lexer": "ipython2",
   "version": "2.7.6"
  }
 },
 "nbformat": 4,
 "nbformat_minor": 0
}