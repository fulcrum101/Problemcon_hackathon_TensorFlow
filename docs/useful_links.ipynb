{
 "cells": [
  {
   "cell_type": "markdown",
   "source": [
    "# Useful links\n",
    "## Overall that you might use\n",
    "* [Python Documentation](https://docs.python.org/3/)\n",
    "* [Python Tutor](https://pythontutor.com) - see how Python code is executed\n",
    "* [Pip](https://pypi.org) - package installer for Python\n",
    "* [Google Colab](https://colab.research.google.com)\n",
    "* [Kaggle](https://www.kaggle.com)\n",
    "* [Hugging Faces](https://huggingface.co)\n",
    "\n",
    "* [NumPy Documentation](https://numpy.org/doc/stable/)\n",
    "* [Pandas Documentation](https://pandas.pydata.org)\n",
    "* [Scikit-learn Documentation](https://scikit-learn.org/stable/modules/classes.html#)\n",
    "* [Matplotlib Documentation](https://matplotlib.org/stable/api/index)\n",
    "\n",
    "* [TensorFlow Documentation](https://www.tensorflow.org/api_docs/python/tf)\n",
    "* [TensorFlow Datasets](https://www.tensorflow.org/datasets)\n",
    "* [TensorFlow Hub](https://www.tensorflow.org/hub) & [TensorFlow Hub tutorials](https://www.tensorflow.org/hub/tutorials)\n",
    "* [TensorFlow Models](https://github.com/tensorflow/models/tree/master/official)\n",
    "* [TensorFlow Guide](https://www.tensorflow.org/guide) & [TensorFlow Tutorials](https://www.tensorflow.org/tutorials)\n",
    "* [Embedding Projector](https://projector.tensorflow.org) - for NLP, you can see learned embeddings in 3D\n",
    "* [TensorBoard](https://www.tensorflow.org/tensorboard) - track your metrics\n",
    "\n",
    "## Useful for creating demos:\n",
    "* [Streamlit](https://streamlit.io) & [Streamlit Cloud](https://streamlit.io/cloud)\n",
    "* [Gradio](https://gradio.app)\n",
    "* [GitHub Pages](https://pages.github.com)\n",
    "* [Hugging Face Spaces](https://huggingface.co/new-space)\n",
    "\n",
    "## Scientific papers:\n",
    "* [Papers With Code](https://paperswithcode.com)\n",
    "* [Arxiv](https://arxiv.org/search/cs)\n",
    "\n",
    "## Resources to learn:\n",
    "* [MIT 6.S191 Introduction to Deep Learning](http://introtodeeplearning.com)\n",
    "* [TensorFlow resources](https://www.tensorflow.org/resources/learn-ml#other-resources)\n",
    "* [ZTM TensorFlow for Deep Learning](https://dev.mrdbourke.com/tensorflow-deep-learning/)\n",
    "* [Machine Learning for Beginners](https://microsoft.github.io/ML-For-Beginners/)\n",
    "* [IBM Learn Hub](https://www.ibm.com/cloud/learn)\n",
    "* [Free Code Camp Machine Learning with Python Course](https://www.freecodecamp.org/learn/machine-learning-with-python/)\n",
    "* [Kaggle Courses](https://www.kaggle.com/learn)\n",
    "\n",
    "## Books:\n",
    "* [Forecasting: Principles and Practice](https://otexts.com/fpp3/)\n",
    "* \"Hands-On Machine Learning, with Scikit-Learn, Keras & TensorFlow 2nd edition\" by Aurelien Geron, O'relly\n",
    "* \"Advanced Deep Learning with TensorFlow 2 and Keras 2nd edition\" by Rowel Atienza, Packt\n",
    "* \"Artificial Intelligence: A Modern Approach 4th edition\" by Stuart  Russel and Peter Norvig, Pearson\n",
    "\n",
    "## Open data for inspiration:\n",
    "* [The official portal for European data](https://data.europa.eu/en)\n",
    "* [Latvijas Atvērto Datu Portāls](https://data.gov.lv/dati/lv/dataset)\n",
    "* [UNICEF Data](https://data.unicef.org)\n",
    "* [NASA](https://data.nasa.gov)\n",
    "* [Google Dataset Search](https://datasetsearch.research.google.com)\n",
    "* [Google Public Data Explorer](https://www.google.com/publicdata/directory)\n",
    "* [Registry of Open Data on AWS](https://registry.opendata.aws)\n",
    "* [U.S. Goverment's open data](https://data.gov)\n",
    "* [World Bank Open Data](https://data.worldbank.org)\n",
    "* [The Global Health Observatory](https://www.who.int/data/gho/)\n",
    "* [FiveThirtyEight](https://data.fivethirtyeight.com)\n",
    "* [DBpedia](https://www.dbpedia.org)\n",
    "* [Yelp Open Dataset](https://www.yelp.com/dataset)\n",
    "* [UC Irvine Machine Learning Repository](https://archive.ics.uci.edu/ml/index.php)\n",
    "\n",
    "## Tools for data and datasets:\n",
    "* [Open Data Kit](https://opendatakit.org)\n",
    "* [Know Your Data](https://knowyourdata.withgoogle.com)"
   ],
   "metadata": {
    "collapsed": false,
    "pycharm": {
     "name": "#%% md\n"
    }
   }
  }
 ],
 "metadata": {
  "kernelspec": {
   "display_name": "Python 3",
   "language": "python",
   "name": "python3"
  },
  "language_info": {
   "codemirror_mode": {
    "name": "ipython",
    "version": 2
   },
   "file_extension": ".py",
   "mimetype": "text/x-python",
   "name": "python",
   "nbconvert_exporter": "python",
   "pygments_lexer": "ipython2",
   "version": "2.7.6"
  }
 },
 "nbformat": 4,
 "nbformat_minor": 0
}