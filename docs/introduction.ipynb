{
 "cells": [
  {
   "cell_type": "markdown",
   "metadata": {
    "collapsed": true,
    "pycharm": {
     "name": "#%% md\n"
    }
   },
   "source": [
    "# Introduction"
   ]
  },
  {
   "cell_type": "markdown",
   "source": [
    "## What is AI, ML, NN?"
   ],
   "metadata": {
    "collapsed": false,
    "pycharm": {
     "name": "#%% md\n"
    }
   }
  },
  {
   "cell_type": "markdown",
   "source": [
    "> \"The coming era of Artificial Intelligence will not be the era of war, but the era of deep compassion, non-violence, and love\"\n",
    "Amit Ray, Pioneer of Compassionate AI Movement"
   ],
   "metadata": {
    "collapsed": false,
    "pycharm": {
     "name": "#%% md\n"
    }
   }
  },
  {
   "cell_type": "markdown",
   "source": [
    "The field of **artificial intelligence**, or **AI** is concerned with not just understanding but also *building* intelligent entities - machines that can compute how to act effectively and safely in a wide variety of novel situations. - AI definition from \"Artificial Intelligence: A Modern Approach 4\""
   ],
   "metadata": {
    "collapsed": false,
    "pycharm": {
     "name": "#%% md\n"
    }
   }
  },
  {
   "cell_type": "markdown",
   "source": [
    "**Machine learning (ML)** is the science (and art) of programming computers so they can _learn from data_. - ML definition by Aurelien Geron."
   ],
   "metadata": {
    "collapsed": false,
    "pycharm": {
     "name": "#%% md\n"
    }
   }
  },
  {
   "cell_type": "markdown",
   "source": [
    "**Neural Networks (NN)** reflect the behaviour of the human brain, allowing computer programs to recognize patterns and solve common problems in the fields of AI, machine learning and deep learning. - NN definition by IBM."
   ],
   "metadata": {
    "collapsed": false,
    "pycharm": {
     "name": "#%% md\n"
    }
   }
  },
  {
   "cell_type": "markdown",
   "source": [
    "![NN in AI](assets/slide_1.png)"
   ],
   "metadata": {
    "collapsed": false,
    "pycharm": {
     "name": "#%% md\n"
    }
   }
  },
  {
   "cell_type": "markdown",
   "source": [
    "## Problem domains"
   ],
   "metadata": {
    "collapsed": false,
    "pycharm": {
     "name": "#%% md\n"
    }
   }
  },
  {
   "cell_type": "markdown",
   "source": [
    "The most popular problems/domains which NN algorithm solves are considered to be:\n",
    "![Most common NN problems](assets/slide_2.png)\n",
    "* **Regression** - `the relationship estimate between dependent and independent variables.`\n",
    "> For example, you have different statistics about the house (f.i. bedroom number, has it garage or not, etc.) and you are required to estimate its price.\n",
    "> [More information](https://en.wikipedia.org/wiki/Regression_analysis)\n",
    "* **Computer Vision** - `derive meaniningful information from digital images, videos and other visual inputs.`\n",
    "> TLDR: allows computers to see, observe and understand.\n",
    "> For example, is it the image of dog or not?\n",
    "> [More information](https://www.ibm.com/topics/computer-vision)\n",
    "> ![Tweet](assets/tweet.png)\n",
    "* **Natural Language Processing (NLP)** - `understand text and spoken words in much the same way human beings can.`\n",
    "> For example, is this email spam or not?\n",
    "> [More information](https://www.ibm.com/cloud/learn/natural-language-processing)\n",
    "* **Time Series** - `sequence of data that occur in successive order over some period of time.`\n",
    "> TLDR: tracks a sample over time.\n",
    "> [More information](https://otexts.com/fpp3)"
   ],
   "metadata": {
    "collapsed": false,
    "pycharm": {
     "name": "#%% md\n"
    }
   }
  },
  {
   "cell_type": "markdown",
   "source": [
    "## Languages and packages"
   ],
   "metadata": {
    "collapsed": false,
    "pycharm": {
     "name": "#%% md\n"
    }
   }
  },
  {
   "cell_type": "markdown",
   "source": [
    "One of the most popular languages used for NN is Python, so in this workshop/tutorial we will be using it with libraries/packages associated with it.\n",
    "![Popular programming languages](assets/slide_3.png)\n",
    "![Libraries](assets/slide_4.png)\n",
    "\n",
    "**Libraries/packages:**\n",
    "* **TensorFlow** - an end-to-end machine learning platform. Documentation [here](https://www.tensorflow.org/api_docs/python/tf)\n",
    "* **NumPy** - the fundamental package for scientific computing with Python. Documentation [here](https://numpy.org/doc/stable/)\n",
    "* **Pandas** - open source data analysis and manipulation tool. Documentation [here](https://pandas.pydata.org)\n",
    "* **Scikit-learn** - simple and efficient tools for predictive data analysis. Documentation [here](https://scikit-learn.org/stable/modules/classes.html#)\n",
    "* **Matplotlib** - library for creating static, animated, and interactive visualizations. Documentation [here](https://matplotlib.org/stable/api/index)\n",
    "\n",
    "How to set up all packages can be found on according websites."
   ],
   "metadata": {
    "collapsed": false,
    "pycharm": {
     "name": "#%% md\n"
    }
   }
  },
  {
   "cell_type": "markdown",
   "source": [
    "Training ML models requires much computing power and often your computer don't have so much power to execute code. In that situation I recommend using free cloud-based Python code executors.\n",
    "![Execute code](assets/slide_5.png)\n",
    "* [**Google Colaboratory**](https://colab.research.google.com)\n",
    "* [**Kaggle**](https://www.kaggle.com)\n",
    "* [**Hugging faces**](https://huggingface.co/platform)"
   ],
   "metadata": {
    "collapsed": false,
    "pycharm": {
     "name": "#%% md\n"
    }
   }
  },
  {
   "cell_type": "markdown",
   "source": [
    "## Neural Network structure - perceptron\n",
    "**Perceptron** can be considered as a neural networks basic *building block*.\n",
    "![Perceptron model](assets/slide_6.png)\n",
    "More information can be found [here](http://introtodeeplearning.com).\n",
    "\n",
    "Couple of stacked perceptron create *layers*. Layers that are not input or output are called *hidden layers*."
   ],
   "metadata": {
    "collapsed": false
   }
  },
  {
   "cell_type": "markdown",
   "source": [
    "## Building models with TensorFlow\n",
    "Building models in TensorFlow consists of 3 stages:\n",
    "1. creating a model (with [Sequential API](https://www.tensorflow.org/guide/keras/sequential_model) or [Functional API](https://www.tensorflow.org/guide/keras/functional)).\n",
    "> [More information](https://www.tensorflow.org/api_docs/python/tf/keras/Model)\n",
    "2. compiling a model - `model.compile()`\n",
    "> During compiling such parameters as loss functions, optimizer and metrics should be defined.\n",
    "> More information about them [here](https://youtu.be/7sB052Pz0sQ?t=1758).\n",
    "3. fitting a model (training) - `model.fit()`\n",
    "> [More information](https://www.tensorflow.org/guide/keras/train_and_evaluate)\n",
    "\n",
    "Important thing in Machine Learning is evaluating models. With `model.evaluate()` you can test your model against data it didn't see so model overall accuracy can be estimated."
   ],
   "metadata": {
    "collapsed": false,
    "pycharm": {
     "name": "#%% md\n"
    }
   }
  }
 ],
 "metadata": {
  "kernelspec": {
   "display_name": "Python 3",
   "language": "python",
   "name": "python3"
  },
  "language_info": {
   "codemirror_mode": {
    "name": "ipython",
    "version": 2
   },
   "file_extension": ".py",
   "mimetype": "text/x-python",
   "name": "python",
   "nbconvert_exporter": "python",
   "pygments_lexer": "ipython2",
   "version": "2.7.6"
  }
 },
 "nbformat": 4,
 "nbformat_minor": 0
}